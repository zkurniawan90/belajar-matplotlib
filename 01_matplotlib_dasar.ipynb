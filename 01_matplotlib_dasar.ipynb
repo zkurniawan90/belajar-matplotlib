{
 "cells": [
  {
   "cell_type": "markdown",
   "metadata": {
    "slideshow": {
     "slide_type": "slide"
    }
   },
   "source": [
    "![](./images/mpl_logo.png)\n",
    "\n",
    "# Pengenalan Matplotlib\n",
    "\n",
    "- Matplotlib adalah salah satu module dalam Pemrograman Python yang dapat digunakan untuk memvisualisasikan data dalam bentuk graphs. \n",
    "- Dengan Matplotlib, graphs akan digambarkan pada suatu `figure`, yang di dalamnya dapat terdiri dari satu atau lebih `axes`."
   ]
  },
  {
   "cell_type": "markdown",
   "metadata": {
    "slideshow": {
     "slide_type": "slide"
    }
   },
   "source": [
    "## Import modules"
   ]
  },
  {
   "cell_type": "code",
   "execution_count": null,
   "metadata": {},
   "outputs": [],
   "source": [
    "%matplotlib inline"
   ]
  },
  {
   "cell_type": "code",
   "execution_count": null,
   "metadata": {},
   "outputs": [],
   "source": [
    "import matplotlib\n",
    "import matplotlib.pyplot as plt\n",
    "import numpy as np\n",
    "\n",
    "print(matplotlib.__version__)\n",
    "print(np.__version__)"
   ]
  },
  {
   "cell_type": "markdown",
   "metadata": {
    "slideshow": {
     "slide_type": "slide"
    }
   },
   "source": [
    "## Membuat plotting sederhana"
   ]
  },
  {
   "cell_type": "markdown",
   "metadata": {},
   "source": [
    "Membuat sebuah `figure` yang memiliki sebuah `axes`; melakukan plotting data pada `axes`"
   ]
  },
  {
   "cell_type": "code",
   "execution_count": null,
   "metadata": {},
   "outputs": [],
   "source": [
    "# persiapan sample data\n",
    "x = [1, 2, 3, 4]\n",
    "y = [1, 4, 2, 3]\n",
    "\n",
    "fig, ax = plt.subplots()  # membuat sebuah figure dan sebuah axes \n",
    "ax.plot(x, y)  # melakukan plotting data pada axes\n",
    "plt.show()"
   ]
  },
  {
   "cell_type": "markdown",
   "metadata": {},
   "source": [
    "Alternatif lain, kita bisa langsung memanfaatkan method `plot()` pada `pyplot` untuk melakukan plotting sederhana."
   ]
  },
  {
   "cell_type": "code",
   "execution_count": null,
   "metadata": {},
   "outputs": [],
   "source": [
    "# persiapan sample data\n",
    "x = [1, 2, 3, 4]\n",
    "y = [1, 4, 2, 3]\n",
    "\n",
    "plt.plot(x, y)  \n",
    "plt.show()"
   ]
  },
  {
   "cell_type": "markdown",
   "metadata": {
    "slideshow": {
     "slide_type": "slide"
    }
   },
   "source": [
    "## Komponen dari sebuah Matplotlib `Figure`"
   ]
  },
  {
   "cell_type": "markdown",
   "metadata": {},
   "source": [
    "Perhatikan perbedaan antara `axes` dan `axis`!\n",
    "\n",
    "![](./images/mpl_anatomy.png)"
   ]
  },
  {
   "cell_type": "markdown",
   "metadata": {},
   "source": [
    "Berikut adalah beberapa cara untuk membuat `figure` dan `axes`:"
   ]
  },
  {
   "cell_type": "code",
   "execution_count": null,
   "metadata": {},
   "outputs": [],
   "source": [
    "fig = plt.figure()  # figure tanpa axes\n",
    "plt.show()"
   ]
  },
  {
   "cell_type": "code",
   "execution_count": null,
   "metadata": {},
   "outputs": [],
   "source": [
    "fig, ax = plt.subplots()  # sebuah figure dengan sebuah axes"
   ]
  },
  {
   "cell_type": "code",
   "execution_count": null,
   "metadata": {},
   "outputs": [],
   "source": [
    "fig, axs = plt.subplots(2, 3)  # sebuah figure dengan 2x3 grid axes\n",
    "plt.show()"
   ]
  },
  {
   "cell_type": "markdown",
   "metadata": {
    "slideshow": {
     "slide_type": "slide"
    }
   },
   "source": [
    "## Dua cara dalam menggunakan Matplotlib\n",
    "\n",
    "\n",
    "Pada dasarnya terdapat dua cara dalam menggunakan Matplotlib, yaitu:\n",
    "\n",
    "- OO Style (Object Oriented Style)\n",
    "- `pyplot` Style"
   ]
  },
  {
   "cell_type": "markdown",
   "metadata": {
    "slideshow": {
     "slide_type": "slide"
    }
   },
   "source": [
    "## Mengenal Object Oriented Style untuk melakukan plotting\n",
    "\n",
    "Secara eksplisit membuat `figures` beserta `axes`, dan memanggil methods dari keduanya."
   ]
  },
  {
   "cell_type": "code",
   "execution_count": null,
   "metadata": {},
   "outputs": [],
   "source": [
    "x = np.linspace(0, 2, 100)\n",
    "x"
   ]
  },
  {
   "cell_type": "code",
   "execution_count": null,
   "metadata": {},
   "outputs": [],
   "source": [
    "fig, ax = plt.subplots()  # membuat sebuah figure dan sebuah axes.\n",
    "\n",
    "# plotting tiga variant data pada axes\n",
    "ax.plot(x, x, label='linear')  \n",
    "ax.plot(x, x**2, label='quadratic')  \n",
    "ax.plot(x, x**3, label='cubic')  \n",
    "\n",
    "ax.set_xlabel('x label')  # menyertakan x-label pada axes\n",
    "ax.set_ylabel('y label')  # menyertakan y-label pada axes\n",
    "ax.set_title(\"Simple Plot\")  # menyertakan title pada axes\n",
    "ax.legend()  # menyertakan legend\n",
    "plt.show()"
   ]
  },
  {
   "cell_type": "markdown",
   "metadata": {
    "slideshow": {
     "slide_type": "slide"
    }
   },
   "source": [
    "## Mengenal pyplot Style untuk melakukan plotting\n",
    "\n",
    "Mengandalkan `pyplot` untuk membuat dan mengelola `figures` dan `axes`, serta menggunakan fungsi pada `pyplot` untuk melakukan plotting."
   ]
  },
  {
   "cell_type": "code",
   "execution_count": null,
   "metadata": {},
   "outputs": [],
   "source": [
    "x = np.linspace(0, 2, 100)\n",
    "x"
   ]
  },
  {
   "cell_type": "code",
   "execution_count": null,
   "metadata": {},
   "outputs": [],
   "source": [
    "# plotting tiga variant data pada axes\n",
    "plt.plot(x, x, label='linear')  \n",
    "plt.plot(x, x**2, label='quadratic')\n",
    "plt.plot(x, x**3, label='cubic')\n",
    "\n",
    "plt.xlabel('x label')  # menyertakan x-label pada axes\n",
    "plt.ylabel('y label')  # menyertakan y-label pada axes\n",
    "plt.title(\"Simple Plot\")  # menyertakan title pada axes\n",
    "plt.legend()  # menyertakan legend\n",
    "plt.show()"
   ]
  }
 ],
 "metadata": {
  "celltoolbar": "Slideshow",
  "kernelspec": {
   "display_name": "Python 3",
   "language": "python",
   "name": "python3"
  },
  "language_info": {
   "codemirror_mode": {
    "name": "ipython",
    "version": 3
   },
   "file_extension": ".py",
   "mimetype": "text/x-python",
   "name": "python",
   "nbconvert_exporter": "python",
   "pygments_lexer": "ipython3",
   "version": "3.1.undefined"
  }
 },
 "nbformat": 4,
 "nbformat_minor": 1
}
